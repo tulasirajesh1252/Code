{
 "cells": [
  {
   "cell_type": "markdown",
   "metadata": {},
   "source": [
    "# Positive or Negative\n"
   ]
  },
  {
   "cell_type": "code",
   "execution_count": null,
   "metadata": {},
   "outputs": [],
   "source": [
    "Input = int(input(\"Enter Number to check Odd or Even\"))\n",
    "if Input > 0 :\n",
    "   print (\"Positive\")\n",
    "elif Input < 0 :\n",
    "   print (\"Negative\")"
   ]
  },
  {
   "cell_type": "markdown",
   "metadata": {},
   "source": [
    "# Even or Odd Number"
   ]
  },
  {
   "cell_type": "code",
   "execution_count": null,
   "metadata": {},
   "outputs": [],
   "source": [
    "Input = int(input(\"Enter Number to check Odd or Even\"))\n",
    "Temp = int(Input/2)*2\n",
    "if Input == Temp:\n",
    "   print (\"Even Number\")\n",
    "elif Input != Temp:\n",
    "   print (\"Odd Number\")\n",
    "    "
   ]
  },
  {
   "cell_type": "markdown",
   "metadata": {},
   "source": [
    "# Leap and Non Leap Year"
   ]
  },
  {
   "cell_type": "code",
   "execution_count": null,
   "metadata": {},
   "outputs": [],
   "source": [
    "Input = int(input(\"Please enter Year\"))\n",
    "if Input % 4 == 0 :\n",
    "  print (\"Leap Year\")\n",
    "elif Input % 400 == 0 :\n",
    "  print (\"Leap Year\")\n",
    "elif Input % 100 == 0 :\n",
    "  print (\"Leap Year\")\n",
    "else :\n",
    "    print (\"Non Leap Year\")\n",
    "\n"
   ]
  },
  {
   "cell_type": "markdown",
   "metadata": {},
   "source": [
    "\n"
   ]
  },
  {
   "cell_type": "markdown",
   "metadata": {},
   "source": [
    "# Largest of 3 numbers"
   ]
  },
  {
   "cell_type": "code",
   "execution_count": 5,
   "metadata": {
    "scrolled": true
   },
   "outputs": [
    {
     "name": "stdout",
     "output_type": "stream",
     "text": [
      "Enter Num12\n",
      "Enter Num23\n",
      "Enter Num314\n",
      "Max value is 14\n"
     ]
    }
   ],
   "source": [
    "num1 = int(input(\"Enter Num1\"))\n",
    "num2 = int(input(\"Enter Num2\"))\n",
    "num3 = int(input(\"Enter Num3\"))\n",
    "max = num1\n",
    "if num2 > max :\n",
    " max = num2\n",
    "if num3 > max :\n",
    " max = num3\n",
    "print(\"Max value is\", max)"
   ]
  },
  {
   "cell_type": "markdown",
   "metadata": {},
   "source": [
    "# Input a month name and print number of days in it"
   ]
  },
  {
   "cell_type": "code",
   "execution_count": 2,
   "metadata": {},
   "outputs": [
    {
     "name": "stdout",
     "output_type": "stream",
     "text": [
      "enter the month : Feb\n",
      "28/29 days in this month\n"
     ]
    }
   ],
   "source": [
    "months={'Jan':'31','Feb':'28/29','Mar':'31','Apr':'30','May':'31','Jun':'30','Jul':'31','Aug':'31','Sep':'30','Oct':'31','Nov':'30','Dec':'31'}\n",
    "a=input(\"enter the month : \")\n",
    "print(\"{0} days in this month\".format(months[a])) \n",
    "\n"
   ]
  },
  {
   "cell_type": "markdown",
   "metadata": {},
   "source": [
    "# Prime Number or not\n"
   ]
  },
  {
   "cell_type": "code",
   "execution_count": 3,
   "metadata": {},
   "outputs": [
    {
     "name": "stdout",
     "output_type": "stream",
     "text": [
      "Enter min value3\n",
      "Enter max valuel5\n",
      "3\n",
      "5\n"
     ]
    }
   ],
   "source": [
    "min = int(input(\"Enter min value\")) \n",
    "max = int(input(\"Enter max valuel\")) \n",
    "for num in range(min,max + 1): \n",
    " if num > 1: \n",
    "  for i in range(2,num): \n",
    "   if (num % i) == 0: \n",
    "    break \n",
    "  else: \n",
    "   print(num)"
   ]
  },
  {
   "cell_type": "markdown",
   "metadata": {},
   "source": [
    "# Factorial Number"
   ]
  },
  {
   "cell_type": "code",
   "execution_count": 4,
   "metadata": {},
   "outputs": [
    {
     "name": "stdout",
     "output_type": "stream",
     "text": [
      "Enter a number:5\n",
      "Factorial of 5 is: 120\n"
     ]
    }
   ],
   "source": [
    "a = int(input(\"Enter a number:\"))\n",
    "factorial=1\n",
    "\n",
    "for i in range(1,a+1) :\n",
    " factorial = factorial*i\n",
    "print(\"Factorial of\",a,\"is:\",factorial)"
   ]
  },
  {
   "cell_type": "markdown",
   "metadata": {},
   "source": [
    "# multiplication Table \n"
   ]
  },
  {
   "cell_type": "code",
   "execution_count": 5,
   "metadata": {},
   "outputs": [
    {
     "name": "stdout",
     "output_type": "stream",
     "text": [
      "Enter the number:7\n",
      "7 * 1 : 7\n",
      "7 * 2 : 14\n",
      "7 * 3 : 21\n",
      "7 * 4 : 28\n",
      "7 * 5 : 35\n",
      "7 * 6 : 42\n",
      "7 * 7 : 49\n",
      "7 * 8 : 56\n",
      "7 * 9 : 63\n",
      "7 * 10 : 70\n"
     ]
    }
   ],
   "source": [
    "\n",
    "a = int(input(\"Enter the number:\"))\n",
    "for i in range (1,11):\n",
    "    print (a,\"*\",i,\":\",a*i)\n"
   ]
  },
  {
   "cell_type": "markdown",
   "metadata": {},
   "source": [
    "# Fibonacci "
   ]
  },
  {
   "cell_type": "code",
   "execution_count": 6,
   "metadata": {},
   "outputs": [
    {
     "name": "stdout",
     "output_type": "stream",
     "text": [
      "Enter a num:45\n",
      "0\n",
      "1\n",
      "1\n",
      "2\n",
      "3\n",
      "5\n",
      "8\n",
      "13\n",
      "21\n",
      "34\n",
      "55\n",
      "89\n",
      "144\n",
      "233\n",
      "377\n",
      "610\n",
      "987\n",
      "1597\n",
      "2584\n",
      "4181\n",
      "6765\n",
      "10946\n",
      "17711\n",
      "28657\n",
      "46368\n",
      "75025\n",
      "121393\n",
      "196418\n",
      "317811\n",
      "514229\n",
      "832040\n",
      "1346269\n",
      "2178309\n",
      "3524578\n",
      "5702887\n",
      "9227465\n",
      "14930352\n",
      "24157817\n",
      "39088169\n",
      "63245986\n",
      "102334155\n",
      "165580141\n",
      "267914296\n",
      "433494437\n",
      "701408733\n"
     ]
    }
   ],
   "source": [
    "a = 0\n",
    "b = 1\n",
    "x = int(input(\"Enter a num:\"))\n",
    "print(a)\n",
    "for i in range (1,x):\n",
    " if i <= 1:\n",
    "  c = 1\n",
    " else:\n",
    "  c = a+b\n",
    "  a = b\n",
    "  b = c\n",
    " print(c)"
   ]
  },
  {
   "cell_type": "markdown",
   "metadata": {},
   "source": [
    "# Sum of Natural Numbers"
   ]
  },
  {
   "cell_type": "code",
   "execution_count": 7,
   "metadata": {},
   "outputs": [
    {
     "name": "stdout",
     "output_type": "stream",
     "text": [
      "Enter a number:45\n",
      "1035\n"
     ]
    }
   ],
   "source": [
    "n = int(input(\"Enter a number:\"))\n",
    "sum = 0\n",
    "for i in range (1,n+1):\n",
    " sum = sum + i\n",
    "print(sum)"
   ]
  },
  {
   "cell_type": "code",
   "execution_count": null,
   "metadata": {},
   "outputs": [],
   "source": []
  }
 ],
 "metadata": {
  "kernelspec": {
   "display_name": "Python 3",
   "language": "python",
   "name": "python3"
  },
  "language_info": {
   "codemirror_mode": {
    "name": "ipython",
    "version": 3
   },
   "file_extension": ".py",
   "mimetype": "text/x-python",
   "name": "python",
   "nbconvert_exporter": "python",
   "pygments_lexer": "ipython3",
   "version": "3.6.4"
  }
 },
 "nbformat": 4,
 "nbformat_minor": 2
}
