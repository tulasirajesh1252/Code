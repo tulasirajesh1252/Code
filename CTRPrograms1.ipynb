{
 "cells": [
  {
   "cell_type": "markdown",
   "metadata": {},
   "source": [
    "# Positive or Negative\n"
   ]
  },
  {
   "cell_type": "code",
   "execution_count": null,
   "metadata": {},
   "outputs": [],
   "source": [
    "Input = int(input(\"Enter Number to check Odd or Even\"))\n",
    "if Input > 0 :\n",
    "   print (\"Positive\")\n",
    "elif Input < 0 :\n",
    "   print (\"Negative\")"
   ]
  },
  {
   "cell_type": "markdown",
   "metadata": {},
   "source": [
    "# Even or Odd Number"
   ]
  },
  {
   "cell_type": "code",
   "execution_count": null,
   "metadata": {},
   "outputs": [],
   "source": [
    "Input = int(input(\"Enter Number to check Odd or Even\"))\n",
    "Temp = int(Input/2)*2\n",
    "if Input == Temp:\n",
    "   print (\"Even Number\")\n",
    "elif Input != Temp:\n",
    "   print (\"Odd Number\")\n",
    "    "
   ]
  },
  {
   "cell_type": "markdown",
   "metadata": {},
   "source": [
    "# Leap and Non Leap Year"
   ]
  },
  {
   "cell_type": "code",
   "execution_count": null,
   "metadata": {},
   "outputs": [],
   "source": [
    "Input = int(input(\"Please enter Year\"))\n",
    "if Input % 4 == 0 :\n",
    "  print (\"Leap Year\")\n",
    "elif Input % 400 == 0 :\n",
    "  print (\"Leap Year\")\n",
    "elif Input % 100 == 0 :\n",
    "  print (\"Leap Year\")\n",
    "else :\n",
    "    print (\"Non Leap Year\")\n",
    "\n"
   ]
  },
  {
   "cell_type": "markdown",
   "metadata": {},
   "source": [
    "\n"
   ]
  },
  {
   "cell_type": "markdown",
   "metadata": {},
   "source": [
    "# Largest of 3 numbers"
   ]
  },
  {
   "cell_type": "code",
   "execution_count": 5,
   "metadata": {},
   "outputs": [
    {
     "name": "stdout",
     "output_type": "stream",
     "text": [
      "Enter Num12\n",
      "Enter Num23\n",
      "Enter Num314\n",
      "Max value is 14\n"
     ]
    }
   ],
   "source": [
    "num1 = int(input(\"Enter Num1\"))\n",
    "num2 = int(input(\"Enter Num2\"))\n",
    "num3 = int(input(\"Enter Num3\"))\n",
    "max = num1\n",
    "if num2 > max :\n",
    " max = num2\n",
    "if num3 > max :\n",
    " max = num3\n",
    "print(\"Max value is\", max)"
   ]
  },
  {
   "cell_type": "code",
   "execution_count": null,
   "metadata": {},
   "outputs": [],
   "source": []
  },
  {
   "cell_type": "code",
   "execution_count": null,
   "metadata": {},
   "outputs": [],
   "source": []
  },
  {
   "cell_type": "code",
   "execution_count": null,
   "metadata": {},
   "outputs": [],
   "source": []
  }
 ],
 "metadata": {
  "kernelspec": {
   "display_name": "Python 3",
   "language": "python",
   "name": "python3"
  },
  "language_info": {
   "codemirror_mode": {
    "name": "ipython",
    "version": 3
   },
   "file_extension": ".py",
   "mimetype": "text/x-python",
   "name": "python",
   "nbconvert_exporter": "python",
   "pygments_lexer": "ipython3",
   "version": "3.6.4"
  }
 },
 "nbformat": 4,
 "nbformat_minor": 2
}
